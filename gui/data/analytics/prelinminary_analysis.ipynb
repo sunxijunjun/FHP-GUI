{
 "cells": [
  {
   "cell_type": "markdown",
   "metadata": {},
   "source": [
    "Notebook for preliminary analysis, planned function includes:\n",
    "\n",
    "1.Finding sensor readouts that exceeds 850.(Done)\n",
    "\n",
    "2.Finding abnormal sensor readouts in one group.(Done. Now using 15% deviation from average of the remaining 3.)\n",
    "\n",
    "3.Finding relationships between prediction results, threshold and command.(In progress)\n",
    "\n",
    "4.Refactoring the dataset. e.g. Combine sensor values and mv values into the same row."
   ]
  },
  {
   "cell_type": "code",
   "execution_count": 27,
   "metadata": {},
   "outputs": [
    {
     "name": "stdout",
     "output_type": "stream",
     "text": [
      "Loaded DataFrame:\n",
      "    timestamp  sensor_2  sensor_4   mv_1   mv_2   mv_3   mv_4   fhp  \\\n",
      "0  3172334658       NaN       NaN  888.0  895.0  891.0  895.0   NaN   \n",
      "1  3172334668     850.0     822.0  823.0  822.0  821.0  822.0   NaN   \n",
      "2  3172335158       NaN       NaN  888.0  889.0  891.0  895.0   NaN   \n",
      "3  3172335168       NaN       NaN  823.0  824.0  821.0  822.0   NaN   \n",
      "4  3172335178     850.0     823.0    NaN    NaN    NaN    NaN  48.0   \n",
      "\n",
      "   prediction                                    notes bad_posture_command  \\\n",
      "0         NaN                                      NaN                  no   \n",
      "1         NaN  Sensor 2 val replaced by max valid val                   no   \n",
      "2         NaN                                      NaN                  no   \n",
      "3         NaN                                      NaN                  no   \n",
      "4         1.0                                      NaN                  no   \n",
      "\n",
      "   model_threshold                                        model_notes  \n",
      "0              NaN                                                NaN  \n",
      "1             71.5  Thresholds changed from nan to 71.5 at 3172334...  \n",
      "2             71.5                                                NaN  \n",
      "3             71.5                                                NaN  \n",
      "4             71.5                                                NaN  \n"
     ]
    }
   ],
   "source": [
    "import pandas as pd\n",
    "cleaned_file_path = 'cleaned_integrated_data_20241024102534.csv'\n",
    "df = pd.read_csv(cleaned_file_path)\n",
    "print(\"Loaded DataFrame:\")\n",
    "print(df.head())"
   ]
  },
  {
   "cell_type": "code",
   "execution_count": 28,
   "metadata": {},
   "outputs": [
    {
     "name": "stdout",
     "output_type": "stream",
     "text": [
      "\n",
      "Rows where sensor_2 >= 850:\n",
      "      timestamp  sensor_2  sensor_4   mv_1   mv_2   mv_3   mv_4   fhp  \\\n",
      "1    3172334668     850.0     822.0  823.0  822.0  821.0  822.0   NaN   \n",
      "4    3172335178     850.0     823.0    NaN    NaN    NaN    NaN  48.0   \n",
      "7    3172335698     850.0     824.0    NaN    NaN    NaN    NaN  46.0   \n",
      "9    3172336178     850.0     825.0  823.0  824.0  825.0  826.0   NaN   \n",
      "11   3172336668     850.0     825.0  823.0  824.0  825.0  826.0   NaN   \n",
      "14   3172337178     850.0     825.0    NaN    NaN    NaN    NaN  42.0   \n",
      "17   3172337698     850.0     824.0    NaN    NaN    NaN    NaN  43.0   \n",
      "19   3172338178     850.0     823.0  823.0  824.0  823.0  823.0   NaN   \n",
      "21   3172338668     850.0     824.0  826.0  824.0  823.0  823.0   NaN   \n",
      "24   3172339178     850.0     824.0    NaN    NaN    NaN    NaN  42.0   \n",
      "27   3172339698     850.0     824.0    NaN    NaN    NaN    NaN  41.0   \n",
      "29   3172340178     850.0     824.0  826.0  822.0  824.0  825.0   NaN   \n",
      "32   3172340678     850.0     824.0    NaN    NaN    NaN    NaN  36.0   \n",
      "35   3172341178     850.0     824.0    NaN    NaN    NaN    NaN  36.0   \n",
      "38   3172341698     850.0     823.0    NaN    NaN    NaN    NaN  37.0   \n",
      "41   3172342178     850.0     822.0    NaN    NaN    NaN    NaN   NaN   \n",
      "44   3172342678     850.0     821.0    NaN    NaN    NaN    NaN  39.0   \n",
      "47   3172343178     850.0     820.0    NaN    NaN    NaN    NaN  38.0   \n",
      "50   3172343698     850.0     822.0    NaN    NaN    NaN    NaN   NaN   \n",
      "53   3172344178     850.0     821.0    NaN    NaN    NaN    NaN   NaN   \n",
      "56   3172344678     850.0     822.0    NaN    NaN    NaN    NaN   NaN   \n",
      "59   3172345178     850.0     824.0    NaN    NaN    NaN    NaN  34.0   \n",
      "62   3172345698     850.0     822.0    NaN    NaN    NaN    NaN  41.0   \n",
      "65   3172346178     850.0     823.0    NaN    NaN    NaN    NaN   NaN   \n",
      "68   3172346678     850.0     821.0    NaN    NaN    NaN    NaN  52.0   \n",
      "71   3172347178     850.0     818.0    NaN    NaN    NaN    NaN  50.0   \n",
      "74   3172347698     850.0     818.0    NaN    NaN    NaN    NaN  51.0   \n",
      "77   3172348178     850.0     819.0    NaN    NaN    NaN    NaN   NaN   \n",
      "80   3172348678     850.0     820.0    NaN    NaN    NaN    NaN  48.0   \n",
      "83   3172349178     850.0     820.0    NaN    NaN    NaN    NaN  46.0   \n",
      "86   3172349698     850.0     821.0    NaN    NaN    NaN    NaN  43.0   \n",
      "89   3172350178     850.0     821.0    NaN    NaN    NaN    NaN   NaN   \n",
      "92   3172350678     850.0     822.0    NaN    NaN    NaN    NaN  38.0   \n",
      "95   3172351178     850.0     822.0    NaN    NaN    NaN    NaN  38.0   \n",
      "98   3172351698     850.0     822.0    NaN    NaN    NaN    NaN  37.0   \n",
      "101  3172352178     850.0     822.0    NaN    NaN    NaN    NaN   NaN   \n",
      "104  3172352678     850.0     822.0    NaN    NaN    NaN    NaN  36.0   \n",
      "107  3172353178     850.0     820.0    NaN    NaN    NaN    NaN   NaN   \n",
      "\n",
      "     prediction                                         notes  \\\n",
      "1           NaN       Sensor 2 val replaced by max valid val    \n",
      "4           1.0                                           NaN   \n",
      "7           1.0                                           NaN   \n",
      "9           1.0  Sensor 2 val replaced by previous valid val    \n",
      "11          1.0  Sensor 2 val replaced by previous valid val    \n",
      "14          1.0                                           NaN   \n",
      "17          1.0                                           NaN   \n",
      "19          1.0  Sensor 2 val replaced by previous valid val    \n",
      "21          1.0  Sensor 2 val replaced by previous valid val    \n",
      "24          1.0                                           NaN   \n",
      "27          1.0                                           NaN   \n",
      "29          1.0  Sensor 2 val replaced by previous valid val    \n",
      "32          1.0                                           NaN   \n",
      "35          1.0                                           NaN   \n",
      "38          1.0                                           NaN   \n",
      "41          1.0  Sensor 2 val replaced by previous valid val    \n",
      "44          1.0                                           NaN   \n",
      "47          1.0                                           NaN   \n",
      "50          1.0  Sensor 2 val replaced by previous valid val    \n",
      "53          1.0  Sensor 2 val replaced by previous valid val    \n",
      "56          1.0  Sensor 2 val replaced by previous valid val    \n",
      "59          1.0                                           NaN   \n",
      "62          1.0                                           NaN   \n",
      "65          1.0  Sensor 2 val replaced by previous valid val    \n",
      "68          1.0                                           NaN   \n",
      "71          1.0                                           NaN   \n",
      "74          1.0                                           NaN   \n",
      "77          1.0  Sensor 2 val replaced by previous valid val    \n",
      "80          1.0                                           NaN   \n",
      "83          1.0                                           NaN   \n",
      "86          1.0                                           NaN   \n",
      "89          1.0  Sensor 2 val replaced by previous valid val    \n",
      "92          1.0                                           NaN   \n",
      "95          1.0                                           NaN   \n",
      "98          1.0                                           NaN   \n",
      "101         1.0  Sensor 2 val replaced by previous valid val    \n",
      "104         1.0                                           NaN   \n",
      "107         1.0                                           NaN   \n",
      "\n",
      "    bad_posture_command  model_threshold  \\\n",
      "1                    no             71.5   \n",
      "4                    no             71.5   \n",
      "7                    no             71.5   \n",
      "9                    no             71.5   \n",
      "11                   no             71.5   \n",
      "14                   no             71.5   \n",
      "17                   no             71.5   \n",
      "19                   no             71.5   \n",
      "21                   no             71.5   \n",
      "24                   no             71.5   \n",
      "27                   no             71.5   \n",
      "29                   no             71.5   \n",
      "32                   no             71.5   \n",
      "35                   no             71.5   \n",
      "38                   no             71.5   \n",
      "41                   no             71.5   \n",
      "44                   no             71.5   \n",
      "47                   no             71.5   \n",
      "50                   no             71.5   \n",
      "53                   no             71.5   \n",
      "56                   no             71.5   \n",
      "59                   no             71.5   \n",
      "62                   no             71.5   \n",
      "65                   no             71.5   \n",
      "68                   no             71.5   \n",
      "71                   no             71.5   \n",
      "74                   no             71.5   \n",
      "77                   no             71.5   \n",
      "80                   no             71.5   \n",
      "83                   no             71.5   \n",
      "86                   no             71.5   \n",
      "89                   no             71.5   \n",
      "92                   no             71.5   \n",
      "95                   no             71.5   \n",
      "98                   no             71.5   \n",
      "101                  no             71.5   \n",
      "104                  no             71.5   \n",
      "107                  no             71.5   \n",
      "\n",
      "                                           model_notes  \n",
      "1    Thresholds changed from nan to 71.5 at 3172334...  \n",
      "4                                                  NaN  \n",
      "7                                                  NaN  \n",
      "9                                                  NaN  \n",
      "11                                                 NaN  \n",
      "14                                                 NaN  \n",
      "17                                                 NaN  \n",
      "19                                                 NaN  \n",
      "21                                                 NaN  \n",
      "24                                                 NaN  \n",
      "27                                                 NaN  \n",
      "29                                                 NaN  \n",
      "32                                                 NaN  \n",
      "35                                                 NaN  \n",
      "38                                                 NaN  \n",
      "41                                                 NaN  \n",
      "44                                                 NaN  \n",
      "47                                                 NaN  \n",
      "50                                                 NaN  \n",
      "53                                                 NaN  \n",
      "56                                                 NaN  \n",
      "59                                                 NaN  \n",
      "62                                                 NaN  \n",
      "65                                                 NaN  \n",
      "68                                                 NaN  \n",
      "71                                                 NaN  \n",
      "74                                                 NaN  \n",
      "77                                                 NaN  \n",
      "80                                                 NaN  \n",
      "83                                                 NaN  \n",
      "86                                                 NaN  \n",
      "89                                                 NaN  \n",
      "92                                                 NaN  \n",
      "95                                                 NaN  \n",
      "98                                                 NaN  \n",
      "101                                                NaN  \n",
      "104                                                NaN  \n",
      "107                                                NaN  \n"
     ]
    }
   ],
   "source": [
    "sensor_2_saturated = df[df['sensor_2'] >= 850]\n",
    "print(\"\\nRows where sensor_2 >= 850:\")\n",
    "print(sensor_2_saturated)"
   ]
  },
  {
   "cell_type": "code",
   "execution_count": 29,
   "metadata": {},
   "outputs": [
    {
     "name": "stdout",
     "output_type": "stream",
     "text": [
      "\n",
      "Rows where sensor_4 >= 850:\n",
      "      timestamp  sensor_2  sensor_4  mv_1  mv_2  mv_3  mv_4  fhp  prediction  \\\n",
      "549  3172429188     849.0     850.0   NaN   NaN   NaN   NaN  NaN         1.0   \n",
      "\n",
      "                                            notes bad_posture_command  \\\n",
      "549  Sensor 2 val replaced by previous valid val                   no   \n",
      "\n",
      "     model_threshold model_notes  \n",
      "549             71.5         NaN  \n"
     ]
    }
   ],
   "source": [
    "sensor_4_saturated = df[df['sensor_4'] >= 850]\n",
    "print(\"\\nRows where sensor_4 >= 850:\")\n",
    "print(sensor_4_saturated)"
   ]
  },
  {
   "cell_type": "code",
   "execution_count": 30,
   "metadata": {},
   "outputs": [
    {
     "name": "stdout",
     "output_type": "stream",
     "text": [
      "\n",
      "Rows with abnormal mv readings:\n",
      "       timestamp  sensor_2  sensor_4    mv_1   mv_2    mv_3    mv_4  fhp  \\\n",
      "129   3172357158       NaN       NaN   886.0  624.0   929.0   922.0  NaN   \n",
      "132   3172357678       NaN       NaN   886.0  624.0   626.0   922.0  NaN   \n",
      "135   3172358158       NaN       NaN   886.0  624.0   626.0   746.0  NaN   \n",
      "336   3172393658       NaN       NaN   980.0  988.0  1187.0   927.0  NaN   \n",
      "342   3172394658       NaN       NaN  1250.0  988.0  1187.0  1255.0  NaN   \n",
      "...          ...       ...       ...     ...    ...     ...     ...  ...   \n",
      "3702  3173151658       NaN       NaN   527.0  594.0   822.0   534.0  NaN   \n",
      "3703  3173151678       NaN       NaN   599.0  676.0   767.0   596.0  NaN   \n",
      "3705  3173152158       NaN       NaN   527.0  594.0   822.0   678.0  NaN   \n",
      "3708  3173152658       NaN       NaN   676.0  594.0   822.0   678.0  NaN   \n",
      "3711  3173153158       NaN       NaN   676.0  669.0   822.0   678.0  NaN   \n",
      "\n",
      "      prediction  notes bad_posture_command  model_threshold  model_notes  \n",
      "129          NaN    NaN                  no             71.5          NaN  \n",
      "132          NaN    NaN                  no             71.5          NaN  \n",
      "135          NaN    NaN                  no             71.5          NaN  \n",
      "336          NaN    NaN                  no             71.5          NaN  \n",
      "342          NaN    NaN                  no             71.5          NaN  \n",
      "...          ...    ...                 ...              ...          ...  \n",
      "3702         NaN    NaN                  no             71.5          NaN  \n",
      "3703         NaN    NaN                  no             71.5          NaN  \n",
      "3705         NaN    NaN                  no             71.5          NaN  \n",
      "3708         NaN    NaN                  no             71.5          NaN  \n",
      "3711         NaN    NaN                  no             71.5          NaN  \n",
      "\n",
      "[73 rows x 13 columns]\n"
     ]
    }
   ],
   "source": [
    "threshold = 0.15  \n",
    "abnormal_mv_rows = []\n",
    "\n",
    "for index, row in df.iterrows():\n",
    "    mv_values = [row['mv_1'], row['mv_2'], row['mv_3'], row['mv_4']]\n",
    "    avg_mv = sum(mv_values) / len(mv_values)\n",
    "\n",
    "    for mv in mv_values:\n",
    "        if abs(mv - avg_mv) / avg_mv > threshold:\n",
    "            abnormal_mv_rows.append(row)\n",
    "            break\n",
    "\n",
    "abnormal_mv_df = pd.DataFrame(abnormal_mv_rows)\n",
    "print(\"\\nRows with abnormal mv readings:\")\n",
    "print(abnormal_mv_df)"
   ]
  },
  {
   "cell_type": "code",
   "execution_count": 31,
   "metadata": {},
   "outputs": [
    {
     "name": "stdout",
     "output_type": "stream",
     "text": [
      "\n",
      "Rows with abnormal mv readings:\n",
      "       timestamp  sensor_2  sensor_4   mv_1   mv_2   mv_3   mv_4  fhp  \\\n",
      "111   3172354158       NaN       NaN  878.0  810.0  784.0  968.0  NaN   \n",
      "114   3172354658       NaN       NaN  909.0  810.0  784.0  968.0  NaN   \n",
      "117   3172355158       NaN       NaN  909.0  947.0  784.0  968.0  NaN   \n",
      "129   3172357158       NaN       NaN  886.0  624.0  929.0  922.0  NaN   \n",
      "130   3172357168       NaN       NaN  813.0  690.0  812.0  818.0  NaN   \n",
      "...          ...       ...       ...    ...    ...    ...    ...  ...   \n",
      "3703  3173151678       NaN       NaN  599.0  676.0  767.0  596.0  NaN   \n",
      "3705  3173152158       NaN       NaN  527.0  594.0  822.0  678.0  NaN   \n",
      "3706  3173152168       NaN       NaN  599.0  676.0  767.0  725.0  NaN   \n",
      "3708  3173152658       NaN       NaN  676.0  594.0  822.0  678.0  NaN   \n",
      "3711  3173153158       NaN       NaN  676.0  669.0  822.0  678.0  NaN   \n",
      "\n",
      "      prediction  notes bad_posture_command  model_threshold  model_notes  \n",
      "111          NaN    NaN                  no             71.5          NaN  \n",
      "114          NaN    NaN                  no             71.5          NaN  \n",
      "117          NaN    NaN                  no             71.5          NaN  \n",
      "129          NaN    NaN                  no             71.5          NaN  \n",
      "130          NaN    NaN                  no             71.5          NaN  \n",
      "...          ...    ...                 ...              ...          ...  \n",
      "3703         NaN    NaN                  no             71.5          NaN  \n",
      "3705         NaN    NaN                  no             71.5          NaN  \n",
      "3706         NaN    NaN                  no             71.5          NaN  \n",
      "3708         NaN    NaN                  no             71.5          NaN  \n",
      "3711         NaN    NaN                  no             71.5          NaN  \n",
      "\n",
      "[99 rows x 13 columns]\n"
     ]
    }
   ],
   "source": [
    "abnormal_mv_rows = []\n",
    "\n",
    "for index, row in df.iterrows():\n",
    "    mv_values = [row['mv_1'], row['mv_2'], row['mv_3'], row['mv_4']]\n",
    "    \n",
    "    # Check each mv value against the average of the other three\n",
    "    for i in range(4):\n",
    "        # Calculate the average of the other three mv values\n",
    "        avg_of_others = sum(mv_values[j] for j in range(4) if j != i) / 3\n",
    "        \n",
    "        # Check if the current mv value is significantly different from the average of the others\n",
    "        if abs(mv_values[i] - avg_of_others) / avg_of_others > threshold:\n",
    "            abnormal_mv_rows.append(row)\n",
    "            break  # Break to avoid adding the same row multiple times\n",
    "\n",
    "# Convert the list of abnormal rows to a DataFrame\n",
    "abnormal_mv_df = pd.DataFrame(abnormal_mv_rows)\n",
    "\n",
    "print(\"\\nRows with abnormal mv readings:\")\n",
    "print(abnormal_mv_df)"
   ]
  },
  {
   "cell_type": "code",
   "execution_count": 36,
   "metadata": {},
   "outputs": [],
   "source": [
    "bad_posture= df[(df['bad_posture_command'] == 'yes')]\n",
    "bad_posture_pred_0 = df[(df['bad_posture_command'] == 'yes') & (df['prediction'] == 0)]\n",
    "bad_posture_pred_1 = df[(df['bad_posture_command'] == 'yes') & (df['prediction'] == 1)]\n",
    "average_diff_bad_posture_pred_0 = (bad_posture_pred_0['sensor_2'] - bad_posture_pred_0['sensor_4']).abs().mean()\n",
    "average_diff_bad_posture_pred_1 = (bad_posture_pred_1['sensor_2'] - bad_posture_pred_1['sensor_4']).abs().mean()\n"
   ]
  },
  {
   "cell_type": "code",
   "execution_count": 37,
   "metadata": {},
   "outputs": [
    {
     "name": "stdout",
     "output_type": "stream",
     "text": [
      "81.71739130434783\n"
     ]
    }
   ],
   "source": [
    "print(average_diff_bad_posture_pred_0)"
   ]
  },
  {
   "cell_type": "code",
   "execution_count": 38,
   "metadata": {},
   "outputs": [
    {
     "name": "stdout",
     "output_type": "stream",
     "text": [
      "45.3578431372549\n"
     ]
    }
   ],
   "source": [
    "print(average_diff_bad_posture_pred_1)"
   ]
  }
 ],
 "metadata": {
  "kernelspec": {
   "display_name": "base",
   "language": "python",
   "name": "python3"
  },
  "language_info": {
   "codemirror_mode": {
    "name": "ipython",
    "version": 3
   },
   "file_extension": ".py",
   "mimetype": "text/x-python",
   "name": "python",
   "nbconvert_exporter": "python",
   "pygments_lexer": "ipython3",
   "version": "3.12.4"
  }
 },
 "nbformat": 4,
 "nbformat_minor": 2
}
