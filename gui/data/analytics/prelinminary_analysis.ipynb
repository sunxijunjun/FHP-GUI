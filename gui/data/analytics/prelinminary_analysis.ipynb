{
 "cells": [
  {
   "cell_type": "markdown",
   "metadata": {},
   "source": [
    "Notebook for preliminary analysis, planned function includes:\n",
    "\n",
    "1.Finding sensor readouts that exceeds 850.(Done)\n",
    "\n",
    "2.Finding abnormal sensor readouts in one group.(Done. Now using 20% deviation from average.)\n",
    "\n",
    "3.Finding relationships between prediction results, threshold and command.(TBD)\n",
    "\n",
    "4.Refactoring the dataset. e.g. Combine sensor values and mv values into the same row."
   ]
  },
  {
   "cell_type": "code",
   "execution_count": null,
   "metadata": {},
   "outputs": [],
   "source": [
    "import pandas as pd\n",
    "cleaned_file_path = ''\n",
    "df = pd.read_csv(cleaned_file_path)\n",
    "print(\"Loaded DataFrame:\")\n",
    "print(df.head())"
   ]
  },
  {
   "cell_type": "code",
   "execution_count": null,
   "metadata": {},
   "outputs": [],
   "source": [
    "sensor_2_saturated = df[df['sensor_2'] > 850]\n",
    "print(\"\\nRows where sensor_2 > 850:\")\n",
    "print(sensor_2_saturated)"
   ]
  },
  {
   "cell_type": "code",
   "execution_count": null,
   "metadata": {},
   "outputs": [],
   "source": [
    "sensor_4_saturated = df[df['sensor_4'] > 850]\n",
    "print(\"\\nRows where sensor_4 > 850:\")\n",
    "print(sensor_4_saturated)"
   ]
  },
  {
   "cell_type": "code",
   "execution_count": null,
   "metadata": {},
   "outputs": [],
   "source": [
    "threshold = 0.2  \n",
    "abnormal_mv_rows = []\n",
    "\n",
    "for index, row in df.iterrows():\n",
    "    mv_values = [row['mv_1'], row['mv_2'], row['mv_3'], row['mv_4']]\n",
    "    avg_mv = sum(mv_values) / len(mv_values)\n",
    "\n",
    "    for mv in mv_values:\n",
    "        if abs(mv - avg_mv) / avg_mv > threshold:\n",
    "            abnormal_mv_rows.append(row)\n",
    "            break\n",
    "\n",
    "abnormal_mv_df = pd.DataFrame(abnormal_mv_rows)\n",
    "print(\"\\nRows with abnormal mv readings:\")\n",
    "print(abnormal_mv_df)"
   ]
  }
 ],
 "metadata": {
  "kernelspec": {
   "display_name": "base",
   "language": "python",
   "name": "python3"
  },
  "language_info": {
   "name": "python",
   "version": "3.12.4"
  }
 },
 "nbformat": 4,
 "nbformat_minor": 2
}
