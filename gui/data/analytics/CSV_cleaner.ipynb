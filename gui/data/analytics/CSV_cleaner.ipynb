{
 "cells": [
  {
   "cell_type": "markdown",
   "metadata": {},
   "source": [
    "Copy the notebook to the same folder as raw data. The filename is hard-coded for integrated_data now, so is the filtering settings via boolean logic in pandas. Check them before using it."
   ]
  },
  {
   "cell_type": "code",
   "execution_count": 6,
   "metadata": {},
   "outputs": [
    {
     "name": "stdout",
     "output_type": "stream",
     "text": [
      "\n",
      "Saved cleaned data to ./cleaned_integrated_data_20241024101425.csv\n",
      "\n",
      "\n",
      "Saved cleaned data to ./cleaned_integrated_data_20241024102002.csv\n",
      "\n",
      "\n",
      "Saved cleaned data to ./cleaned_integrated_data_20241024102534.csv\n",
      "\n",
      "\n",
      "Saved cleaned data to ./cleaned_integrated_data_20241024104019.csv\n",
      "\n",
      "\n",
      "Saved cleaned data to ./cleaned_integrated_data_20241024105753.csv\n",
      "\n",
      "\n",
      "Saved cleaned data to ./cleaned_integrated_data_20241024110434.csv\n",
      "\n"
     ]
    }
   ],
   "source": [
    "import pandas as pd\n",
    "import os\n",
    "\n",
    "# Define the directory containing the CSV files\n",
    "directory = './'  # Replace with your actual path\n",
    "\n",
    "# Loop through all files in the directory\n",
    "for filename in os.listdir(directory):\n",
    "    if filename.startswith('integrated_data') and filename.endswith('.csv'):\n",
    "        # Construct the full file path\n",
    "        file_path = os.path.join(directory, filename)\n",
    "        \n",
    "        # Load the CSV file\n",
    "        df = pd.read_csv(file_path)\n",
    "\n",
    "        # Print the head of the DataFrame before cleaning\n",
    "        # print(f\"Before cleaning {filename}:\")\n",
    "        # print(df.head())\n",
    "\n",
    "        # Specify the columns to preserve\n",
    "        columns_to_keep = ['timestamp','sensor_2', 'sensor_4', 'mv_1', 'mv_2', 'mv_3', 'mv_4', 'fhp', 'prediction','notes','bad_posture_command','model_threshold','model_notes']  # Replace with your columns\n",
    "        df = df[columns_to_keep]\n",
    "\n",
    "        # Define the conditions to keep the rows\n",
    "        condition = (\n",
    "            (df['sensor_2'].notna() & df['sensor_4'].notna()) |  # Both sensor_2 and sensor_4 have values\n",
    "            (df[['mv_1', 'mv_2', 'mv_3', 'mv_4']].notna().all(axis=1))  # All mv_1, mv_2, mv_3, mv_4 have values\n",
    "        )\n",
    "\n",
    "        # Filter the DataFrame based on the conditions\n",
    "        df = df[condition]\n",
    "\n",
    "        # Print the head of the cleaned DataFrame\n",
    "        # print(f\"\\nAfter cleaning {filename}:\")\n",
    "        # print(df.head())\n",
    "\n",
    "        # Construct the new filename with the cleaned_ prefix\n",
    "        cleaned_filename = f\"cleaned_{filename}\"\n",
    "        cleaned_file_path = os.path.join(directory, cleaned_filename)\n",
    "\n",
    "        # Save the cleaned DataFrame to a new CSV file\n",
    "        df.to_csv(cleaned_file_path, index=False)\n",
    "\n",
    "        print(f\"\\nSaved cleaned data to {cleaned_file_path}\\n\")"
   ]
  }
 ],
 "metadata": {
  "kernelspec": {
   "display_name": "base",
   "language": "python",
   "name": "python3"
  },
  "language_info": {
   "codemirror_mode": {
    "name": "ipython",
    "version": 3
   },
   "file_extension": ".py",
   "mimetype": "text/x-python",
   "name": "python",
   "nbconvert_exporter": "python",
   "pygments_lexer": "ipython3",
   "version": "3.12.4"
  }
 },
 "nbformat": 4,
 "nbformat_minor": 2
}
